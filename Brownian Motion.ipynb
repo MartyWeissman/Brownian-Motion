{
 "metadata": {
  "name": "",
  "signature": "sha256:4d9684fcc201031ec1de77ee61c74b4c97f3204c6f14c4d6794b2cbba2162764"
 },
 "nbformat": 3,
 "nbformat_minor": 0,
 "worksheets": [
  {
   "cells": [
    {
     "cell_type": "markdown",
     "metadata": {},
     "source": [
      "**Brownian Motion Analysis**"
     ]
    },
    {
     "cell_type": "markdown",
     "metadata": {},
     "source": [
      "This notebook is for Scientific Inquiry, at Yale-NUS College, 2014.\n",
      "All contents written by Martin Weissman.\n",
      "This notebook is in the public domain.  Do what you want with it.\n",
      "\n",
      "The following notebook imports data from a video-capture of Brownian motion.  I think that the lab setup involved spheres, 1 micron in diameter (5e-7 in radius), undergoing Brownian motion in water at room temperature.  I believe that the video setup makes it so that 1 micron is approximately 5 pixels, and the video frame-rate is 10 frames per second.  At least, these assumptions make the numbers work out well :)"
     ]
    },
    {
     "cell_type": "code",
     "collapsed": false,
     "input": [
      "# We begin by loading all the necessary packages and importing the data file.\n",
      "import os\n",
      "import pylab\n",
      "import numpy as np\n",
      "import statsmodels.formula.api as sm\n",
      "from matplotlib.backends.backend_pdf import PdfPages\n",
      "import pandas as pd\n",
      "brownian_data = pd.read_csv('BrownianRealData.csv')"
     ],
     "language": "python",
     "metadata": {},
     "outputs": [],
     "prompt_number": 1
    },
    {
     "cell_type": "code",
     "collapsed": false,
     "input": [
      "# We slice the data to include only the first 250 frames.\n",
      "brownian_slice = brownian_data.iloc[0:250,1:]"
     ],
     "language": "python",
     "metadata": {},
     "outputs": [],
     "prompt_number": 2
    },
    {
     "cell_type": "code",
     "collapsed": false,
     "input": [
      "# The displacements are computed, so each particle starts at (0,0).\n",
      "displacements = brownian_slice - brownian_slice.loc[0].values.squeeze()"
     ],
     "language": "python",
     "metadata": {},
     "outputs": [],
     "prompt_number": 3
    },
    {
     "cell_type": "code",
     "collapsed": false,
     "input": [
      "# This code produces a plot of particle n.  The data file contains 46 particles, I think.\n",
      "def brown_graph(n):\n",
      "    fig = pylab.figure(figsize=(5, 5))\n",
      "    pylab.title('Particle '+str(n))\n",
      "    pylab.plot(displacements[[2*n]][0:241:4]*0.2, displacements[[2*n+1]][0:241:4]*0.2, lw=0.5)\n",
      "    pylab.plot(displacements[[2*n]][0:241:24]*0.2, displacements[[2*n+1]][0:241:24]*0.2,'o')\n",
      "    pylab.ylim([-10,10])\n",
      "    pylab.xlim([-10,10])\n",
      "    pylab.xticks([i*2.0 for i in range(-5,6)])\n",
      "    pylab.yticks([i*2.0 for i in range(-5,6)])\n",
      "    pylab.tick_params(axis='both', which='major', labelsize=8)\n",
      "    pylab.tick_params(axis='both', which='minor', labelsize=8)\n",
      "    pylab.grid(True)\n",
      "    return fig"
     ],
     "language": "python",
     "metadata": {},
     "outputs": [],
     "prompt_number": 4
    },
    {
     "cell_type": "code",
     "collapsed": false,
     "input": [
      "# This produces a PDF file, with one page per particle graph.\n",
      "# For 40 particles, it seems to give a memory warning.  Oh well.\n",
      "pp = PdfPages('Particles.pdf')\n",
      "for n in range(40):\n",
      "    pp.savefig(brown_graph(n))\n",
      "pp.close()"
     ],
     "language": "python",
     "metadata": {},
     "outputs": [
      {
       "output_type": "stream",
       "stream": "stderr",
       "text": [
        "/Users/martinweissman/Library/Enthought/Canopy_64bit/User/lib/python2.7/site-packages/matplotlib/pyplot.py:412: RuntimeWarning: More than 20 figures have been opened. Figures created through the pyplot interface (`matplotlib.pyplot.figure`) are retained until explicitly closed and may consume too much memory. (To control this warning, see the rcParam `figure.max_num_figures`).\n",
        "  max_open_warning, RuntimeWarning)\n"
       ]
      }
     ],
     "prompt_number": 5
    },
    {
     "cell_type": "code",
     "collapsed": false,
     "input": [
      "# This produces a data frame of squared-displacements.\n",
      "square_displacements = displacements.apply(lambda x: x**2)"
     ],
     "language": "python",
     "metadata": {},
     "outputs": [],
     "prompt_number": 6
    },
    {
     "cell_type": "code",
     "collapsed": false,
     "input": [
      "# This computes the maximum squared-displacement for each particle.\n",
      "sd_max = square_displacements.max(0)"
     ],
     "language": "python",
     "metadata": {},
     "outputs": [],
     "prompt_number": 7
    },
    {
     "cell_type": "code",
     "collapsed": false,
     "input": [
      "# This determines which particles are stuck.  \n",
      "# The cutoff of 200 for maximum squared-displacement agrees with visual examination.\n",
      "stuck = [n for n in range(46) if ((sd_max.at[2*n] < 200) and (sd_max.at[2*n+1] < 200))]"
     ],
     "language": "python",
     "metadata": {},
     "outputs": [],
     "prompt_number": 8
    },
    {
     "cell_type": "code",
     "collapsed": false,
     "input": [
      "# Unstuck retrieves the columns of coordinates corresponding to unstuck particles.\n",
      "unstuck = [n for n in range(92) if (n/2 not in stuck)] "
     ],
     "language": "python",
     "metadata": {},
     "outputs": [],
     "prompt_number": 9
    },
    {
     "cell_type": "code",
     "collapsed": false,
     "input": [
      "# We output the stuck particles, to see if they agree with the graphs.\n",
      "stuck"
     ],
     "language": "python",
     "metadata": {},
     "outputs": [
      {
       "metadata": {},
       "output_type": "pyout",
       "prompt_number": 10,
       "text": [
        "[2, 4, 8, 9, 19, 20, 22, 23, 32]"
       ]
      }
     ],
     "prompt_number": 10
    },
    {
     "cell_type": "code",
     "collapsed": false,
     "input": [
      "# We throw all the stuck particles out of the data frame.  The remaining data is in sd.\n",
      "sd = square_displacements.iloc[:,unstuck]"
     ],
     "language": "python",
     "metadata": {},
     "outputs": [],
     "prompt_number": 11
    },
    {
     "cell_type": "code",
     "collapsed": false,
     "input": [
      "# This gives a series of mean (over all unstuck particles) squared-displacements.\n",
      "msd = sd.mean(1)"
     ],
     "language": "python",
     "metadata": {},
     "outputs": [],
     "prompt_number": 12
    },
    {
     "cell_type": "code",
     "collapsed": false,
     "input": [
      "# We make an array from 0 to 249, to index the frames.\n",
      "t = np.linspace(0, 250, 250)"
     ],
     "language": "python",
     "metadata": {},
     "outputs": [],
     "prompt_number": 13
    },
    {
     "cell_type": "code",
     "collapsed": false,
     "input": [
      "# Make sure that the number of frames matches the number of data points in the series.\n",
      "len(msd), len(t)"
     ],
     "language": "python",
     "metadata": {},
     "outputs": [
      {
       "metadata": {},
       "output_type": "pyout",
       "prompt_number": 14,
       "text": [
        "(250, 250)"
       ]
      }
     ],
     "prompt_number": 14
    },
    {
     "cell_type": "code",
     "collapsed": false,
     "input": [
      "# We use the stats model package to do ordinary least squares regression.\n",
      "model = sm.OLS(msd, t)\n",
      "results = model.fit()\n",
      "print(results.summary())"
     ],
     "language": "python",
     "metadata": {},
     "outputs": [
      {
       "output_type": "stream",
       "stream": "stdout",
       "text": [
        "                            OLS Regression Results                            \n",
        "==============================================================================\n",
        "Dep. Variable:                      y   R-squared:                       0.993\n",
        "Model:                            OLS   Adj. R-squared:                  0.993\n",
        "Method:                 Least Squares   F-statistic:                 3.553e+04\n",
        "Date:                Sun, 10 Aug 2014   Prob (F-statistic):          1.28e-270\n",
        "Time:                        21:38:01   Log-Likelihood:                -1150.7\n",
        "No. Observations:                 250   AIC:                             2303.\n",
        "Df Residuals:                     249   BIC:                             2307.\n",
        "Df Model:                           1                                         \n",
        "==============================================================================\n",
        "                 coef    std err          t      P>|t|      [95.0% Conf. Int.]\n",
        "------------------------------------------------------------------------------\n",
        "x1             1.9958      0.011    188.491      0.000         1.975     2.017\n",
        "==============================================================================\n",
        "Omnibus:                       22.389   Durbin-Watson:                   0.093\n",
        "Prob(Omnibus):                  0.000   Jarque-Bera (JB):               25.999\n",
        "Skew:                           0.783   Prob(JB):                     2.26e-06\n",
        "Kurtosis:                       3.209   Cond. No.                         1.00\n",
        "==============================================================================\n"
       ]
      }
     ],
     "prompt_number": 15
    },
    {
     "cell_type": "code",
     "collapsed": false,
     "input": [
      "# names the regression coefficient from the OLS analysis.\n",
      "regression_coefficient = results.params.at[0]"
     ],
     "language": "python",
     "metadata": {},
     "outputs": [],
     "prompt_number": 16
    },
    {
     "cell_type": "code",
     "collapsed": false,
     "input": [
      "# makes a scatter plot of mean square displacements, and draws the best-fit line.\n",
      "% pylab inline\n",
      "# We plot the mean square displacements.\n",
      "fig = pylab.figure(figsize=(5, 5))\n",
      "pylab.title('Mean square displacements')\n",
      "pylab.plt.scatter(t, msd, alpha=0.3)  # Plot the raw data\n",
      "pylab.plot(t, regression_coefficient * t, alpha=0.7, color=\"red\")\n",
      "pylab.ylim([0,600])\n",
      "pylab.xlim([-0,250])\n",
      "pylab.xticks([i*25.0 for i in range(0,11)])\n",
      "pylab.yticks([i*100.0 for i in range(0,7)])\n",
      "pylab.tick_params(axis='both', which='major', labelsize=8)\n",
      "pylab.tick_params(axis='both', which='minor', labelsize=8)\n",
      "pylab.xlabel('Frame number')\n",
      "pylab.ylabel('Mean square displacement (pixels^2)')\n",
      "pylab.plt.show()\n"
     ],
     "language": "python",
     "metadata": {},
     "outputs": [
      {
       "output_type": "stream",
       "stream": "stdout",
       "text": [
        "Populating the interactive namespace from numpy and matplotlib\n"
       ]
      },
      {
       "output_type": "stream",
       "stream": "stderr",
       "text": [
        "WARNING: pylab import has clobbered these variables: ['pylab']\n",
        "`%matplotlib` prevents importing * from pylab and numpy\n"
       ]
      },
      {
       "metadata": {},
       "output_type": "display_data",
       "png": "[encoded data removed]",
       "text": [
        "<matplotlib.figure.Figure at 0x117970f50>"
       ]
      }
     ],
     "prompt_number": 17
    },
    {
     "cell_type": "code",
     "collapsed": false,
     "input": [
      "# We set the temperature, radius, and viscosity.  We set the \"real\" Boltzmann constant too.\n",
      "temperature = 293 #in Kelvin\n",
      "radius = 0.5e-6 #in metres\n",
      "viscosity = 8.9e-4 #in kg / m s\n",
      "Boltzmann_real = 1.38e-23 #in m^2 kg / s^2 K"
     ],
     "language": "python",
     "metadata": {},
     "outputs": [],
     "prompt_number": 18
    },
    {
     "cell_type": "code",
     "collapsed": false,
     "input": [
      "# We compute the diffusion constant, in meters-squared per second.\n",
      "# The regression coefficient is the diffusion coefficient in pixels^2 / frame.\n",
      "# A pixel is approximately 0.2 microns.  A frame is 0.1 seconds.\n",
      "metres_per_pixel = 2e-7\n",
      "seconds_per_frame = 0.1\n",
      "diffusion_coefficient = regression_coefficient * (metres_per_pixel**2) / seconds_per_frame "
     ],
     "language": "python",
     "metadata": {},
     "outputs": [],
     "prompt_number": 19
    },
    {
     "cell_type": "code",
     "collapsed": false,
     "input": [
      "Boltzmann = diffusion_coefficient * 3 * np.pi * radius * viscosity / temperature\n",
      "\n",
      "#Diffusion = Boltzmann * Temp / (3 * np.pi * radius * viscosity)"
     ],
     "language": "python",
     "metadata": {},
     "outputs": [],
     "prompt_number": 20
    },
    {
     "cell_type": "code",
     "collapsed": false,
     "input": [
      "Boltzmann"
     ],
     "language": "python",
     "metadata": {},
     "outputs": [
      {
       "metadata": {},
       "output_type": "pyout",
       "prompt_number": 21,
       "text": [
        "1.1427109027535717e-23"
       ]
      }
     ],
     "prompt_number": 21
    },
    {
     "cell_type": "markdown",
     "metadata": {},
     "source": [
      "This estimate of Boltzmann's constant k_B has the right order of magnitude -- it's close to the \"real value\" of 1.38e-23, at least.\n",
      "A big source of uncertainty is in the metres_per-pixel, since this is squared in the computation, and it's hard to \"eyeball\" and impossible to see in the video.  A change from 0.2 microns per pixel to 0.22 microns per pixel nails Boltzmann's constant."
     ]
    },
    {
     "cell_type": "code",
     "collapsed": false,
     "input": [
      "#  The gas constant R = 8.314 Joules / mol K\n",
      "#  Avogadro's number * Boltzmann's constant equals R.\n",
      "gas_constant = 8.314\n",
      "Avogadro = gas_constant / Boltzmann"
     ],
     "language": "python",
     "metadata": {},
     "outputs": [],
     "prompt_number": 22
    },
    {
     "cell_type": "code",
     "collapsed": false,
     "input": [
      "Avogadro"
     ],
     "language": "python",
     "metadata": {},
     "outputs": [
      {
       "metadata": {},
       "output_type": "pyout",
       "prompt_number": 23,
       "text": [
        "7.2756809967997078e+23"
       ]
      }
     ],
     "prompt_number": 23
    },
    {
     "cell_type": "markdown",
     "metadata": {},
     "source": [
      "Not too shabby."
     ]
    }
   ],
   "metadata": {}
  }
 ]
}